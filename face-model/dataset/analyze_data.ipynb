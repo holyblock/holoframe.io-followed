{
 "cells": [
  {
   "cell_type": "code",
   "execution_count": null,
   "id": "cc0783bf-8d42-420c-bcda-b354fcef99f6",
   "metadata": {},
   "outputs": [],
   "source": [
    "import matplotlib.image as mpimg\n",
    "import matplotlib.pyplot as plt\n",
    "import os\n",
    "import pandas as pd"
   ]
  },
  {
   "cell_type": "code",
   "execution_count": null,
   "id": "bb9566a7-5637-4561-92dd-c84bc34991e2",
   "metadata": {},
   "outputs": [],
   "source": [
    "DATA_FOLDER = './data'\n",
    "DATA_CSV = 'labels.csv'\n",
    "NUM_EXTREME_LABELS = 20\n",
    "NUM_PLOT_COLUMNS = 10"
   ]
  },
  {
   "cell_type": "code",
   "execution_count": null,
   "id": "3b3b5d48-b81f-4c84-9812-2a5bce1f9fea",
   "metadata": {},
   "outputs": [],
   "source": [
    "data_path = os.path.join(DATA_FOLDER, DATA_CSV)\n",
    "df = pd.read_csv(data_path)\n",
    "print(df.columns)"
   ]
  },
  {
   "cell_type": "code",
   "execution_count": null,
   "id": "fb19a643-3281-4c2f-919b-7adcc0947917",
   "metadata": {},
   "outputs": [],
   "source": [
    "def plot_images(filename_list, value_list):\n",
    "    num_rows = int(len(filename_list) / NUM_PLOT_COLUMNS)\n",
    "    plt.figure(figsize=(30, 15))\n",
    "    for i, (filename, value) in enumerate(zip(filename_list, value_list)):\n",
    "        plt.subplot(num_rows, NUM_PLOT_COLUMNS, i + 1)\n",
    "        filepath = os.path.join(DATA_FOLDER, filename + '.jpg')\n",
    "        img = mpimg.imread(filepath)\n",
    "        plt.title(filename + '   ' + str(round(value, 2)))\n",
    "        plt.axis('off')\n",
    "        plt.imshow(img)\n",
    "    plt.subplots_adjust(wspace=0, hspace=0)"
   ]
  },
  {
   "cell_type": "code",
   "execution_count": null,
   "id": "51f7c20f-5467-4126-97ab-9b6ef7739688",
   "metadata": {},
   "outputs": [],
   "source": [
    "feature = 'EyeBlinkLeft'\n",
    "num = NUM_EXTREME_LABELS\n",
    "processed_df = pd.concat(\n",
    "    [df[['Timecode', feature]].nlargest(num, [feature]),\n",
    "     df[['Timecode', feature]].nsmallest(num, [feature])])\n",
    "# print(processed_df)\n",
    "df[[feature]].hist(bins=10)\n",
    "plot_images(processed_df['Timecode'], processed_df[feature])"
   ]
  }
 ],
 "metadata": {
  "kernelspec": {
   "display_name": "Python 3 (ipykernel)",
   "language": "python",
   "name": "python3"
  },
  "language_info": {
   "codemirror_mode": {
    "name": "ipython",
    "version": 3
   },
   "file_extension": ".py",
   "mimetype": "text/x-python",
   "name": "python",
   "nbconvert_exporter": "python",
   "pygments_lexer": "ipython3",
   "version": "3.9.9"
  }
 },
 "nbformat": 4,
 "nbformat_minor": 5
}
