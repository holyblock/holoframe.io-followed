{
 "cells": [
  {
   "cell_type": "code",
   "execution_count": 4,
   "id": "ccc5f528-0f16-4784-bc99-4948c9e8220b",
   "metadata": {},
   "outputs": [],
   "source": [
    "import csv"
   ]
  },
  {
   "cell_type": "code",
   "execution_count": 5,
   "id": "f1b77186-2a31-4ca5-a261-4db0599cf279",
   "metadata": {},
   "outputs": [],
   "source": [
    "CSV_PATHS = [\n",
    "    './extension-aug-1-oct-20-2022.csv',\n",
    "    './desktop-aug-1-sept-1-2022.csv',\n",
    "    './desktop-sept-1-oct-1-2022.csv',\n",
    "    './desktop-oct-1-oct-20-2022.csv'\n",
    "]\n",
    "CSV_OUTPUT = './wallets.csv'"
   ]
  },
  {
   "cell_type": "code",
   "execution_count": 6,
   "id": "4e94b6bc-30bc-445f-9070-9b0b48b81ae5",
   "metadata": {},
   "outputs": [
    {
     "name": "stdout",
     "output_type": "stream",
     "text": [
      "['Event Name', 'Time', 'Distinct ID', 'Browser', 'Browser Version', 'Current URL', 'Device ID', 'Initial Referrer', 'Initial Referring Domain', 'Insert ID', 'Library Version', 'API Endpoint', 'API Timestamp', 'Operating System', 'Screen Height', 'Screen Width', 'User ID', 'First Login Date', 'mixpanel library', 'time processed (UTC)', 'Anonymous ID', 'Failure Description', 'Failure Reason', 'Identified ID', 'Duration', 'Pitch', 'ID', 'Project', 'Type']\n",
      "['Event Name', 'Time', 'Distinct ID', 'Browser', 'Browser Version', 'Current URL', 'Device ID', 'Initial Referrer', 'Initial Referring Domain', 'Insert ID', 'Library Version', 'API Endpoint', 'API Timestamp', 'Operating System', 'Screen Height', 'Screen Width', 'User ID', 'First Login Date', 'mixpanel library', 'time processed (UTC)', 'Anonymous ID', 'Identified ID', 'Distinct ID Before Identity', 'project', 'type', 'media_format', 'Referrer', 'Referring Domain', 'media_type']\n",
      "['Event Name', 'Time', 'Distinct ID', 'Browser', 'Browser Version', 'Current URL', 'Device ID', 'Initial Referrer', 'Initial Referring Domain', 'Insert ID', 'Library Version', 'API Endpoint', 'API Timestamp', 'Operating System', 'Screen Height', 'Screen Width', 'User ID', 'First Login Date', 'mixpanel library', 'time processed (UTC)', 'Anonymous ID', 'Identified ID', 'project', 'type', 'Failure Description', 'Failure Reason', 'media_format', 'Distinct ID Before Identity', 'media_type', 'Referrer', 'Referring Domain']\n",
      "['Event Name', 'Time', 'Distinct ID', 'Browser', 'Browser Version', 'Current URL', 'Device ID', 'Initial Referrer', 'Initial Referring Domain', 'Insert ID', 'Library Version', 'API Endpoint', 'API Timestamp', 'Operating System', 'Screen Height', 'Screen Width', 'User ID', 'First Login Date', 'mixpanel library', 'time processed (UTC)', 'type', 'Anonymous ID', 'Identified ID', 'media_format', 'project', 'Distinct ID Before Identity', 'Failure Description', 'Failure Reason', 'media_type', 'Referrer', 'Referring Domain']\n"
     ]
    }
   ],
   "source": [
    "distinct_ids = {}\n",
    "login_times = {}\n",
    "for csv_path in CSV_PATHS:\n",
    "    with open(csv_path, newline='') as csvfile:\n",
    "        csv_reader = csv.reader(csvfile, delimiter=',', quotechar='|')\n",
    "        key_map = {}\n",
    "        for row in csv_reader:\n",
    "            if len(key_map) == 0:\n",
    "                for (i, j) in enumerate(row):\n",
    "                    key_map[j] = i\n",
    "                print(row)\n",
    "            else:\n",
    "                distinct_id = row[key_map['Distinct ID']]\n",
    "                login_time = row[key_map['Time']]\n",
    "                if distinct_id.startswith('0x'):\n",
    "                    if distinct_id not in distinct_ids:\n",
    "                        distinct_ids[distinct_id] = 0\n",
    "                        login_times[distinct_id] = []\n",
    "                    distinct_ids[distinct_id] += 1\n",
    "                    login_times[distinct_id].append(login_time)"
   ]
  },
  {
   "cell_type": "code",
   "execution_count": 7,
   "id": "f1f1f8fb-6a35-40ab-88fc-8130847c7e92",
   "metadata": {},
   "outputs": [
    {
     "data": {
      "text/plain": [
       "356"
      ]
     },
     "execution_count": 7,
     "metadata": {},
     "output_type": "execute_result"
    }
   ],
   "source": [
    "len(distinct_ids)"
   ]
  },
  {
   "cell_type": "code",
   "execution_count": 8,
   "id": "1b814e6f-fb73-49ef-bcc8-cbdb9ab6de0c",
   "metadata": {},
   "outputs": [],
   "source": [
    "diff_times = {}\n",
    "for distinct_id in login_times:\n",
    "    login_time = login_times[distinct_id]\n",
    "    login_time = sorted(login_time)\n",
    "    diff_time = []\n",
    "    for i in range(len(login_time[1:])):\n",
    "        diff_time.append((float(login_time[i + 1]) - float(login_time[i])) > 24 * 60 * 60)\n",
    "    diff_times[distinct_id] = sum(diff_time)"
   ]
  },
  {
   "cell_type": "code",
   "execution_count": 9,
   "id": "5a77f48f-bc89-4e37-8c0e-ebd2409779de",
   "metadata": {},
   "outputs": [],
   "source": [
    "with open(CSV_OUTPUT, 'w', newline='') as csvfile:\n",
    "    csv_writer = csv.writer(csvfile, delimiter=',',\n",
    "                            quotechar='|', quoting=csv.QUOTE_MINIMAL)\n",
    "    for k in distinct_ids:\n",
    "        k_mask = k\n",
    "        # k_mask = k[0:6] + '...' + k[-4:]\n",
    "        csv_writer.writerow([k_mask, int(diff_times[k] > 1)])"
   ]
  },
  {
   "cell_type": "code",
   "execution_count": null,
   "id": "4c7a7d72-8373-4a27-ba1e-2764903cc94d",
   "metadata": {},
   "outputs": [],
   "source": []
  }
 ],
 "metadata": {
  "kernelspec": {
   "display_name": "Python 3 (ipykernel)",
   "language": "python",
   "name": "python3"
  },
  "language_info": {
   "codemirror_mode": {
    "name": "ipython",
    "version": 3
   },
   "file_extension": ".py",
   "mimetype": "text/x-python",
   "name": "python",
   "nbconvert_exporter": "python",
   "pygments_lexer": "ipython3",
   "version": "3.9.13"
  }
 },
 "nbformat": 4,
 "nbformat_minor": 5
}
